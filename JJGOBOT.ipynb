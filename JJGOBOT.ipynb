{
 "cells": [
  {
   "cell_type": "code",
   "execution_count": null,
   "id": "adc18eb9",
   "metadata": {},
   "outputs": [],
   "source": [
    "import feedparser\n",
    "import json\n",
    "import requests\n",
    "\n",
    "%run ipython_config.py"
   ]
  },
  {
   "cell_type": "code",
   "execution_count": null,
   "id": "d31045fc",
   "metadata": {},
   "outputs": [],
   "source": [
    "##Bring in the feed\n",
    "rss = 'https://feeds.simplecast.com/NDAi3mtz'\n",
    "feed = feedparser.parse(rss)\n",
    "\n",
    "#create the dataframe to hold the results\n",
    "df = pd.DataFrame(columns = ['Title','URL'])\n",
    "\n",
    "#loop through the feed entries\n",
    "a = ''\n",
    "for i in feed.entries:   \n",
    "    #gets the title from the entry\n",
    "    a = i.title   \n",
    "    ##begins API call\n",
    "    r = requests.post(                              \n",
    "    \"https://api.deepai.org/api/text2img\",\n",
    "    data={\n",
    "        'text': a,\n",
    "    },\n",
    "    headers={'api-key': api_key}      #api_key in config file\n",
    "    )\n",
    "    json_file=r.json()\n",
    "    #gets the url from the results\n",
    "    url = json_file['output_url'] \n",
    "    #appends results to the dataframe\n",
    "    df = df.append({'Title' : a, 'URL' : url}, ignore_index=True)\n",
    "\n",
    "#exports the results to excel\n",
    "df.to_excel('JJGOBOT.xlsx')\n",
    "\n",
    "print('Wario, San Franciso, Jordan likes Ska, Jesse quotes rap lyrics, Walton Goggins Has a Vodka,Brian laughs, take off your shoes and socks and run you')\n"
   ]
  },
  {
   "cell_type": "code",
   "execution_count": null,
   "id": "d1eda619",
   "metadata": {},
   "outputs": [],
   "source": []
  }
 ],
 "metadata": {
  "kernelspec": {
   "display_name": "Python 3 (ipykernel)",
   "language": "python",
   "name": "python3"
  },
  "language_info": {
   "codemirror_mode": {
    "name": "ipython",
    "version": 3
   },
   "file_extension": ".py",
   "mimetype": "text/x-python",
   "name": "python",
   "nbconvert_exporter": "python",
   "pygments_lexer": "ipython3",
   "version": "3.9.12"
  }
 },
 "nbformat": 4,
 "nbformat_minor": 5
}
