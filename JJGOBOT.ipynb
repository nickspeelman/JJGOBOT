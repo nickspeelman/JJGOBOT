{
 "cells": [
  {
   "cell_type": "code",
   "execution_count": null,
   "id": "adc18eb9",
   "metadata": {},
   "outputs": [],
   "source": [
    "import feedparser\n",
    "import json\n",
    "import requests\n",
    "import re\n",
    "\n",
    "%run ipython_config.py   ##api_key is in here"
   ]
  },
  {
   "cell_type": "code",
   "execution_count": null,
   "id": "d31045fc",
   "metadata": {},
   "outputs": [],
   "source": [
    "##Bring in the feed\n",
    "rss = 'https://feeds.simplecast.com/NDAi3mtz'\n",
    "feed = feedparser.parse(rss)\n",
    "\n",
    "\n",
    "#loop through the feed entries to download the photos\n",
    "a = ''             ##placeholder for titles\n",
    "b = 0              ## counter\n",
    "for i in feed.entries:   \n",
    "    #gets the title from the entry\n",
    "    b = b+1\n",
    "    a = i.title \n",
    "    a = re.sub(':',' -', a)\n",
    "    ##begins API call\n",
    "    r = requests.post(                              \n",
    "    \"https://api.deepai.org/api/text2img\",\n",
    "    data={\n",
    "        'text': a,\n",
    "    },\n",
    "    headers={'api-key': api_key}                              \n",
    "    )\n",
    "    json_file=r.json()\n",
    "    #gets the url from the results\n",
    "    url = json_file['output_url'] \n",
    "    #gets the pic\n",
    "    response = requests.get(url)\n",
    "    ##saves the pic\n",
    "    open('Photos\\\\' + a + '.jpg','wb').write(response.content)\n",
    "    print(str(b) + ' -- ' + a)\n",
    " \n",
    "   \n",
    "\n",
    "\n",
    "    \n",
    "print('Wario, San Franciso, Jordan likes Ska, Jesse quotes rap lyrics, Walton Goggins Has a Vodka,Brian laughs, take off your shoes and socks and run you')\n"
   ]
  },
  {
   "cell_type": "code",
   "execution_count": null,
   "id": "d1eda619",
   "metadata": {},
   "outputs": [],
   "source": []
  }
 ],
 "metadata": {
  "kernelspec": {
   "display_name": "Python 3 (ipykernel)",
   "language": "python",
   "name": "python3"
  },
  "language_info": {
   "codemirror_mode": {
    "name": "ipython",
    "version": 3
   },
   "file_extension": ".py",
   "mimetype": "text/x-python",
   "name": "python",
   "nbconvert_exporter": "python",
   "pygments_lexer": "ipython3",
   "version": "3.9.12"
  }
 },
 "nbformat": 4,
 "nbformat_minor": 5
}
